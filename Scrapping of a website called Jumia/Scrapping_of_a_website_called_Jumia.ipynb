{
 "cells": [
  {
   "cell_type": "code",
   "execution_count": 11,
   "id": "b0f18fcd",
   "metadata": {},
   "outputs": [],
   "source": [
    "# Install first: pip install undetected-chromedriver selenium beautifulsoup4 pandas\n",
    "import undetected_chromedriver as uc\n",
    "from bs4 import BeautifulSoup\n",
    "import pandas as pd\n",
    "import time\n"
   ]
  },
  {
   "cell_type": "code",
   "execution_count": null,
   "id": "a46903b7-5842-48d4-8fc5-7d8183925ed4",
   "metadata": {},
   "outputs": [],
   "source": [
    "jumia = requests.get('https://www.jumia.co.ke/all-products/')"
   ]
  },
  {
   "cell_type": "code",
   "execution_count": null,
   "id": "ebc86bee-80e1-47ab-af6e-cf6af9e8b952",
   "metadata": {},
   "outputs": [],
   "source": [
    "jumia.content"
   ]
  },
  {
   "cell_type": "code",
   "execution_count": 13,
   "id": "69d6d893",
   "metadata": {},
   "outputs": [],
   "source": [
    "# --- Launch Chrome with undetected-chromedriver (visible window) ---\n",
    "# Remove headless for maximum compatibility\n",
    "driver = uc.Chrome(headless=False)  # shows real browser window\n"
   ]
  },
  {
   "cell_type": "code",
   "execution_count": 14,
   "id": "0ef1d7d2",
   "metadata": {},
   "outputs": [],
   "source": [
    "# --- Helper to scroll down for lazy-loading ---\n",
    "def scroll_page(driver, scroll_pause=3.0, max_scrolls=3):\n",
    "    last_height = driver.execute_script(\"return document.body.scrollHeight\")\n",
    "    for _ in range(max_scrolls):\n",
    "        driver.execute_script(\"window.scrollTo(0, document.body.scrollHeight);\")\n",
    "        time.sleep(scroll_pause)\n",
    "        new_height = driver.execute_script(\"return document.body.scrollHeight\")\n",
    "        if new_height == last_height:\n",
    "            break\n",
    "        last_height = new_height\n"
   ]
  },
  {
   "cell_type": "code",
   "execution_count": 15,
   "id": "f161820e",
   "metadata": {},
   "outputs": [
    {
     "name": "stdout",
     "output_type": "stream",
     "text": [
      "Scraped page 1 with 40 products\n",
      "Scraped page 2 with 40 products\n",
      "Scraped page 3 with 40 products\n",
      "Scraped page 4 with 40 products\n",
      "Scraped page 5 with 40 products\n",
      "Scraped page 6 with 40 products\n",
      "Scraped page 7 with 40 products\n",
      "Scraped page 8 with 40 products\n",
      "Scraped page 9 with 40 products\n",
      "Scraped page 10 with 40 products\n",
      "Scraped page 11 with 40 products\n",
      "Scraped page 12 with 40 products\n",
      "Scraped page 13 with 40 products\n",
      "Scraped page 14 with 40 products\n",
      "Scraped page 15 with 40 products\n",
      "Scraped page 16 with 40 products\n",
      "Scraped page 17 with 40 products\n",
      "Scraped page 18 with 40 products\n",
      "Scraped page 19 with 40 products\n",
      "Scraped page 20 with 40 products\n",
      "Scraped page 21 with 40 products\n",
      "Scraped page 22 with 40 products\n",
      "Scraped page 23 with 40 products\n",
      "Scraped page 24 with 40 products\n",
      "Scraped page 25 with 40 products\n",
      "Scraped page 26 with 40 products\n",
      "Scraped page 27 with 40 products\n",
      "Scraped page 28 with 40 products\n",
      "Scraped page 29 with 40 products\n",
      "Scraped page 30 with 40 products\n",
      "Scraped page 31 with 40 products\n",
      "Scraped page 32 with 40 products\n",
      "Scraped page 33 with 40 products\n",
      "Scraped page 34 with 40 products\n",
      "Scraped page 35 with 40 products\n",
      "Scraped page 36 with 40 products\n",
      "Scraped page 37 with 40 products\n",
      "Scraped page 38 with 40 products\n",
      "Scraped page 39 with 40 products\n",
      "Scraped page 40 with 40 products\n",
      "Scraped page 41 with 40 products\n",
      "Scraped page 42 with 40 products\n",
      "Scraped page 43 with 40 products\n",
      "Scraped page 44 with 40 products\n",
      "Scraped page 45 with 40 products\n",
      "Scraped page 46 with 40 products\n",
      "Scraped page 47 with 40 products\n",
      "Scraped page 48 with 40 products\n",
      "Scraped page 49 with 40 products\n",
      "Scraped page 50 with 40 products\n"
     ]
    }
   ],
   "source": [
    "# --- Scrape Jumia all‑products pages ---\n",
    "name_info, price_info, rating_info, link_info = [], [], [], []\n",
    "\n",
    "for page in range(1, 51):\n",
    "    url = f\"https://www.jumia.co.ke/all-products/?page={page}#catalog-listing\"\n",
    "    driver.get(url)\n",
    "    time.sleep(5)  # let JS load\n",
    "\n",
    "    scroll_page(driver, scroll_pause=3.0, max_scrolls=2)\n",
    "\n",
    "    soup = BeautifulSoup(driver.page_source, \"html.parser\")\n",
    "    products = soup.select(\"article.prd\")  # product cards\n",
    "\n",
    "    for p in products:\n",
    "        name_tag = p.select_one(\"h3.name\")\n",
    "        price_tag = p.select_one(\"div.prc\")\n",
    "        rating_tag = p.select_one(\"div.stars\") or p.select_one(\"div.rev\")\n",
    "        link_tag = p.select_one(\"a.core\")\n",
    "\n",
    "        name_info.append(name_tag.get_text(strip=True) if name_tag else \"N/A\")\n",
    "        price_info.append(price_tag.get_text(strip=True) if price_tag else \"N/A\")\n",
    "        rating_info.append(rating_tag.get_text(strip=True) if rating_tag else \"N/A\")\n",
    "        link_info.append(\"https://www.jumia.co.ke\" + link_tag[\"href\"] if link_tag else \"N/A\")\n",
    "\n",
    "    print(f\"Scraped page {page} with {len(products)} products\")\n"
   ]
  },
  {
   "cell_type": "code",
   "execution_count": 19,
   "id": "4813918b",
   "metadata": {},
   "outputs": [],
   "source": [
    "# --- Close driver ---\n",
    "driver.quit()"
   ]
  },
  {
   "cell_type": "code",
   "execution_count": 25,
   "id": "3abe7615",
   "metadata": {},
   "outputs": [
    {
     "data": {
      "text/html": [
       "<div>\n",
       "<style scoped>\n",
       "    .dataframe tbody tr th:only-of-type {\n",
       "        vertical-align: middle;\n",
       "    }\n",
       "\n",
       "    .dataframe tbody tr th {\n",
       "        vertical-align: top;\n",
       "    }\n",
       "\n",
       "    .dataframe thead th {\n",
       "        text-align: right;\n",
       "    }\n",
       "</style>\n",
       "<table border=\"1\" class=\"dataframe\">\n",
       "  <thead>\n",
       "    <tr style=\"text-align: right;\">\n",
       "      <th></th>\n",
       "      <th>Product Name</th>\n",
       "      <th>Price</th>\n",
       "      <th>Rating</th>\n",
       "    </tr>\n",
       "  </thead>\n",
       "  <tbody>\n",
       "    <tr>\n",
       "      <th>0</th>\n",
       "      <td>Sonar Stainless Steel 1.8Ltr Electric Kettle,1...</td>\n",
       "      <td>KSh 523</td>\n",
       "      <td>4 out of 5</td>\n",
       "    </tr>\n",
       "    <tr>\n",
       "      <th>1</th>\n",
       "      <td>6Pcs Soft Cotton Checked Men's Boxers – Multic...</td>\n",
       "      <td>KSh 586</td>\n",
       "      <td>3.6 out of 5</td>\n",
       "    </tr>\n",
       "    <tr>\n",
       "      <th>2</th>\n",
       "      <td>Starlink Mini kit : High-Speed, Low-Latency In...</td>\n",
       "      <td>KSh 24,000</td>\n",
       "      <td>4.5 out of 5</td>\n",
       "    </tr>\n",
       "    <tr>\n",
       "      <th>3</th>\n",
       "      <td>Sonar 2L Cordless Electric Kettle ,1500W Energ...</td>\n",
       "      <td>KSh 599</td>\n",
       "      <td>4.1 out of 5</td>\n",
       "    </tr>\n",
       "    <tr>\n",
       "      <th>4</th>\n",
       "      <td>VILLAON V101 1.77\" Kabambe, Wireless FM, Camer...</td>\n",
       "      <td>KSh 850</td>\n",
       "      <td>3.8 out of 5</td>\n",
       "    </tr>\n",
       "  </tbody>\n",
       "</table>\n",
       "</div>"
      ],
      "text/plain": [
       "                                        Product Name       Price        Rating\n",
       "0  Sonar Stainless Steel 1.8Ltr Electric Kettle,1...     KSh 523    4 out of 5\n",
       "1  6Pcs Soft Cotton Checked Men's Boxers – Multic...     KSh 586  3.6 out of 5\n",
       "2  Starlink Mini kit : High-Speed, Low-Latency In...  KSh 24,000  4.5 out of 5\n",
       "3  Sonar 2L Cordless Electric Kettle ,1500W Energ...     KSh 599  4.1 out of 5\n",
       "4  VILLAON V101 1.77\" Kabambe, Wireless FM, Camer...     KSh 850  3.8 out of 5"
      ]
     },
     "execution_count": 25,
     "metadata": {},
     "output_type": "execute_result"
    }
   ],
   "source": [
    "# --- Build DataFrame & save to CSV ---\n",
    "df = pd.DataFrame({\n",
    "    \"Product Name\": name_info,\n",
    "    \"Price\": price_info,\n",
    "    \"Rating\": rating_info\n",
    "})\n",
    "\n",
    "# csv_file = \"jumia_products.csv\"\n",
    "# df.to_csv(csv_file, index=False)\n",
    "# print(f\"Total rows: {len(df)} — saved to {csv_file}\")\n",
    "df.head()\n"
   ]
  },
  {
   "cell_type": "code",
   "execution_count": null,
   "id": "5a6ba46f-7cc6-487f-be3b-1ea7bbad9182",
   "metadata": {},
   "outputs": [],
   "source": []
  }
 ],
 "metadata": {
  "kernelspec": {
   "display_name": "Python 3 (ipykernel)",
   "language": "python",
   "name": "python3"
  },
  "language_info": {
   "codemirror_mode": {
    "name": "ipython",
    "version": 3
   },
   "file_extension": ".py",
   "mimetype": "text/x-python",
   "name": "python",
   "nbconvert_exporter": "python",
   "pygments_lexer": "ipython3",
   "version": "3.11.5"
  }
 },
 "nbformat": 4,
 "nbformat_minor": 5
}
